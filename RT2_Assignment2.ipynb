{
 "cells": [
  {
   "cell_type": "markdown",
   "id": "40e99ea8",
   "metadata": {
    "ExecuteTime": {
     "end_time": "2024-05-29T18:35:32.006401Z",
     "start_time": "2024-05-29T18:35:31.921545Z"
    }
   },
   "source": [
    "# Jupyter Notebook-based user interface"
   ]
  },
  {
   "cell_type": "markdown",
   "id": "58de5fe0",
   "metadata": {},
   "source": [
    "## Importing the needed libraries"
   ]
  },
  {
   "cell_type": "code",
   "execution_count": null,
   "id": "9b8058a4",
   "metadata": {
    "ExecuteTime": {
     "end_time": "2024-05-30T22:06:23.711851Z",
     "start_time": "2024-05-30T22:06:18.608383Z"
    }
   },
   "outputs": [],
   "source": [
    "import rospy\n",
    "import actionlib\n",
    "from assignment_2_2023.msg import PlanningAction, PlanningGoal, PlanningFeedback, PlanningResult\n",
    "from assignment_2_2023.msg import CustomMessage\n",
    "from nav_msgs.msg import Odometry\n",
    "import jupyros as jr\n",
    "import ipywidgets as widgets\n",
    "from IPython.display import display\n",
    "import matplotlib.pyplot as plt\n",
    "from matplotlib.animation import FuncAnimation\n",
    "from matplotlib.lines import Line2D\n",
    "\n"
   ]
  },
  {
   "cell_type": "markdown",
   "id": "375a98c3",
   "metadata": {},
   "source": [
    "## Node initialization and Declaration of pusblisher."
   ]
  },
  {
   "cell_type": "code",
   "execution_count": null,
   "id": "bec3fcde",
   "metadata": {
    "ExecuteTime": {
     "end_time": "2024-05-30T22:06:24.451555Z",
     "start_time": "2024-05-30T22:06:23.719758Z"
    }
   },
   "outputs": [],
   "source": [
    "rospy.init_node('action_client_node', anonymous=True)"
   ]
  },
  {
   "cell_type": "code",
   "execution_count": null,
   "id": "6e9ec2e3",
   "metadata": {
    "ExecuteTime": {
     "end_time": "2024-05-30T22:06:24.946316Z",
     "start_time": "2024-05-30T22:06:24.455993Z"
    }
   },
   "outputs": [],
   "source": [
    "client = actionlib.SimpleActionClient('/reaching_goal', PlanningAction)\n",
    "\n",
    "client.wait_for_server()\n",
    "\n",
    "custom_pub = rospy.Publisher('/custom_topic', CustomMessage, queue_size=10)"
   ]
  },
  {
   "cell_type": "markdown",
   "id": "af8c4ed2",
   "metadata": {},
   "source": [
    "## Widgets for send/cancel Goal and display the output"
   ]
  },
  {
   "cell_type": "code",
   "execution_count": null,
   "id": "3cc498ee",
   "metadata": {
    "ExecuteTime": {
     "end_time": "2024-05-30T22:06:25.106771Z",
     "start_time": "2024-05-30T22:06:24.951676Z"
    }
   },
   "outputs": [],
   "source": [
    "x_widget = widgets.FloatText(description='Target X:')\n",
    "y_widget = widgets.FloatText(description='Target Y:')\n",
    "send_button = widgets.Button(description='Set Goal')\n",
    "cancel_button = widgets.Button(description='Cancel Goal')\n",
    "feedback_output = widgets.Output()"
   ]
  },
  {
   "cell_type": "markdown",
   "id": "84676d5c",
   "metadata": {},
   "source": [
    "## Callback function for sending goal Buttons"
   ]
  },
  {
   "cell_type": "code",
   "execution_count": null,
   "id": "b30b5c67",
   "metadata": {
    "ExecuteTime": {
     "end_time": "2024-05-30T22:06:25.137285Z",
     "start_time": "2024-05-30T22:06:25.113653Z"
    }
   },
   "outputs": [],
   "source": [
    "def set_goal(x, y):\n",
    "    goal = PlanningGoal()\n",
    "    goal.target_pose.pose.position.x = x\n",
    "    goal.target_pose.pose.position.y = y\n",
    "    client.send_goal(goal, done_cb=goal_done_callback)\n",
    "    with feedback_output:\n",
    "        print(\"Goal sent with coordinates (x={}, y={}).\\n\".format(x, y))\n",
    "\n",
    "# Callback function when a goal is completed\n",
    "def goal_done_callback(status, result):\n",
    "    with feedback_output:\n",
    "        if status == actionlib.GoalStatus.SUCCEEDED:\n",
    "            print(\"Goal succeeded.\\n\")\n",
    "            reached_x.append(x_widget.value)\n",
    "            reached_y.append(y_widget.value)\n",
    "        elif status == actionlib.GoalStatus.PREEMPTED:\n",
    "            print(\"Goal preempted.\\n\")\n",
    "            canceled_x.append(x_widget.value)\n",
    "            canceled_y.append(y_widget.value)\n",
    "        else:\n",
    "            print(\"Goal failed.\\n\")\n",
    "            canceled_x.append(x_widget.value)\n",
    "            canceled_y.append(y_widget.value)\n",
    "\n",
    "def on_send_button_clicked(b):\n",
    "    set_goal(x_widget.value, y_widget.value)\n",
    "\n",
    "def on_cancel_button_clicked(b):\n",
    "    client.cancel_goal()\n",
    "    # Update canceled target lists\n",
    "    canceled_x.append(x_widget.value)\n",
    "    canceled_y.append(y_widget.value)\n",
    "    with feedback_output:\n",
    "            print(\"Goal canceled.\\n\")\n",
    "\n",
    "send_button.on_click(on_send_button_clicked)\n",
    "cancel_button.on_click(on_cancel_button_clicked)"
   ]
  },
  {
   "cell_type": "markdown",
   "id": "3b581eb0",
   "metadata": {},
   "source": [
    "## Displaying the robot's position and the reached/non- reached targets"
   ]
  },
  {
   "cell_type": "code",
   "execution_count": null,
   "id": "bb48efd3",
   "metadata": {
    "ExecuteTime": {
     "end_time": "2024-05-30T22:06:25.317525Z",
     "start_time": "2024-05-30T22:06:25.150155Z"
    },
    "scrolled": false
   },
   "outputs": [],
   "source": [
    "# Matplotlib figure setup\n",
    "%matplotlib notebook\n",
    "fig, ax = plt.subplots()\n",
    "ln, = plt.plot([], [], 'ro')\n",
    "x_data, y_data = [], []  # Robot trajectory\n",
    "reached_x, reached_y = [], []  # Reached targets\n",
    "canceled_x, canceled_y = [], []  # Canceled targets\n",
    "\n",
    "\n",
    "# Legend elements\n",
    "handles = [\n",
    "    Line2D([], [], color='blue', label='Robot Trajectory', linestyle='-'),\n",
    "    Line2D([], [], marker='s', markersize=6, color='green', markerfacecolor='green', linestyle='None', label='Reached'),\n",
    "    Line2D([], [], marker='x', markersize=6, color='red', markerfacecolor='red', linestyle='None', label='Canceled'),\n",
    "]\n",
    "\n",
    "labels = [handle.get_label() for handle in handles]\n",
    "\n",
    "# Function to initialize the plot\n",
    "def plot_init():\n",
    "    ax.set_xlim(-10, 10)\n",
    "    ax.set_ylim(-10, 10)\n",
    "    legend = plt.legend(handles, labels, loc='upper left')\n",
    "    legend.set_title('Legend')\n",
    "    return ln, legend\n",
    "\n",
    "# Function to update the plot\n",
    "def update_plot(frame):\n",
    "    ln.set_data(x_data, y_data)\n",
    "    ln.set_color((0, 0, 0.8))  # Light shade of blue\n",
    "    ln.set_linewidth(0.5)\n",
    "    \n",
    "    scatter_reached = plt.scatter(reached_x, reached_y, marker='s', color='green', zorder=2)\n",
    "    scatter_canceled = plt.scatter(canceled_x, canceled_y, marker='x', color='red', zorder=1)\n",
    "    \n",
    "    ln.set_zorder(0)  # Set z-order of the trajectory line lower than the markers\n",
    "    return ln, scatter_reached, scatter_canceled\n",
    "\n",
    "\n",
    "\n",
    "\n",
    "# Callback for odometry messages\n",
    "def odom_callback(odom_msg):\n",
    "    x = odom_msg.pose.pose.position.x\n",
    "    y = odom_msg.pose.pose.position.y\n",
    "    vel_x = odom_msg.twist.twist.linear.x\n",
    "    vel_z = odom_msg.twist.twist.angular.z\n",
    "\n",
    "    custom_msg = CustomMessage()\n",
    "    custom_msg.x = x\n",
    "    custom_msg.y = y\n",
    "    custom_msg.vel_x = vel_x\n",
    "    custom_msg.vel_z = vel_z\n",
    "    custom_pub.publish(custom_msg)\n",
    "    \n",
    "    x_data.append(x)\n",
    "    y_data.append(y)\n"
   ]
  },
  {
   "cell_type": "code",
   "execution_count": null,
   "id": "fbf48794",
   "metadata": {
    "ExecuteTime": {
     "end_time": "2024-05-30T22:06:25.422206Z",
     "start_time": "2024-05-30T22:06:25.330003Z"
    },
    "scrolled": true
   },
   "outputs": [],
   "source": [
    "rospy.Subscriber('/odom', Odometry, odom_callback)\n",
    "display(x_widget, y_widget, send_button, cancel_button, feedback_output)\n",
    "\n",
    "# Animation for the plot\n",
    "ani = FuncAnimation(fig, update_plot, init_func=plot_init)\n",
    "plt.show(block=True)"
   ]
  }
 ],
 "metadata": {
  "hide_input": false,
  "kernelspec": {
   "display_name": "Python 3 (ipykernel)",
   "language": "python",
   "name": "python3"
  },
  "language_info": {
   "codemirror_mode": {
    "name": "ipython",
    "version": 3
   },
   "file_extension": ".py",
   "mimetype": "text/x-python",
   "name": "python",
   "nbconvert_exporter": "python",
   "pygments_lexer": "ipython3",
   "version": "3.8.5"
  },
  "toc": {
   "base_numbering": 1,
   "nav_menu": {},
   "number_sections": true,
   "sideBar": true,
   "skip_h1_title": false,
   "title_cell": "Table of Contents",
   "title_sidebar": "Contents",
   "toc_cell": false,
   "toc_position": {},
   "toc_section_display": true,
   "toc_window_display": false
  },
  "varInspector": {
   "cols": {
    "lenName": 16,
    "lenType": 16,
    "lenVar": 40
   },
   "kernels_config": {
    "python": {
     "delete_cmd_postfix": "",
     "delete_cmd_prefix": "del ",
     "library": "var_list.py",
     "varRefreshCmd": "print(var_dic_list())"
    },
    "r": {
     "delete_cmd_postfix": ") ",
     "delete_cmd_prefix": "rm(",
     "library": "var_list.r",
     "varRefreshCmd": "cat(var_dic_list()) "
    }
   },
   "types_to_exclude": [
    "module",
    "function",
    "builtin_function_or_method",
    "instance",
    "_Feature"
   ],
   "window_display": false
  }
 },
 "nbformat": 4,
 "nbformat_minor": 5
}
